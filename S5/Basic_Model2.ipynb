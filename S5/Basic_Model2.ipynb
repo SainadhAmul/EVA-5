{
  "nbformat": 4,
  "nbformat_minor": 0,
  "metadata": {
    "colab": {
      "name": "Basic Model2.ipynb",
      "provenance": [],
      "collapsed_sections": []
    },
    "kernelspec": {
      "name": "python3",
      "display_name": "Python 3"
    },
    "accelerator": "GPU",
    "widgets": {
      "application/vnd.jupyter.widget-state+json": {
        "92c21e5a96fc4c1794f554aa601cff67": {
          "model_module": "@jupyter-widgets/controls",
          "model_name": "HBoxModel",
          "state": {
            "_view_name": "HBoxView",
            "_dom_classes": [],
            "_model_name": "HBoxModel",
            "_view_module": "@jupyter-widgets/controls",
            "_model_module_version": "1.5.0",
            "_view_count": null,
            "_view_module_version": "1.5.0",
            "box_style": "",
            "layout": "IPY_MODEL_2932946674544c97b2d74d89b5fb3908",
            "_model_module": "@jupyter-widgets/controls",
            "children": [
              "IPY_MODEL_dca317ce6c5d48629499f3b783ef6303",
              "IPY_MODEL_915d3757853748b7bb79cf3b5dbbee8f"
            ]
          }
        },
        "2932946674544c97b2d74d89b5fb3908": {
          "model_module": "@jupyter-widgets/base",
          "model_name": "LayoutModel",
          "state": {
            "_view_name": "LayoutView",
            "grid_template_rows": null,
            "right": null,
            "justify_content": null,
            "_view_module": "@jupyter-widgets/base",
            "overflow": null,
            "_model_module_version": "1.2.0",
            "_view_count": null,
            "flex_flow": null,
            "width": null,
            "min_width": null,
            "border": null,
            "align_items": null,
            "bottom": null,
            "_model_module": "@jupyter-widgets/base",
            "top": null,
            "grid_column": null,
            "overflow_y": null,
            "overflow_x": null,
            "grid_auto_flow": null,
            "grid_area": null,
            "grid_template_columns": null,
            "flex": null,
            "_model_name": "LayoutModel",
            "justify_items": null,
            "grid_row": null,
            "max_height": null,
            "align_content": null,
            "visibility": null,
            "align_self": null,
            "height": null,
            "min_height": null,
            "padding": null,
            "grid_auto_rows": null,
            "grid_gap": null,
            "max_width": null,
            "order": null,
            "_view_module_version": "1.2.0",
            "grid_template_areas": null,
            "object_position": null,
            "object_fit": null,
            "grid_auto_columns": null,
            "margin": null,
            "display": null,
            "left": null
          }
        },
        "dca317ce6c5d48629499f3b783ef6303": {
          "model_module": "@jupyter-widgets/controls",
          "model_name": "FloatProgressModel",
          "state": {
            "_view_name": "ProgressView",
            "style": "IPY_MODEL_a5897f1a7dbb4e8694894a933a3dc2c7",
            "_dom_classes": [],
            "description": "",
            "_model_name": "FloatProgressModel",
            "bar_style": "success",
            "max": 1,
            "_view_module": "@jupyter-widgets/controls",
            "_model_module_version": "1.5.0",
            "value": 1,
            "_view_count": null,
            "_view_module_version": "1.5.0",
            "orientation": "horizontal",
            "min": 0,
            "description_tooltip": null,
            "_model_module": "@jupyter-widgets/controls",
            "layout": "IPY_MODEL_4313b5390395419db324ada0f6cfae27"
          }
        },
        "915d3757853748b7bb79cf3b5dbbee8f": {
          "model_module": "@jupyter-widgets/controls",
          "model_name": "HTMLModel",
          "state": {
            "_view_name": "HTMLView",
            "style": "IPY_MODEL_6cdab3ed260248eb80126efc3ed326ba",
            "_dom_classes": [],
            "description": "",
            "_model_name": "HTMLModel",
            "placeholder": "​",
            "_view_module": "@jupyter-widgets/controls",
            "_model_module_version": "1.5.0",
            "value": " 9920512/? [00:02&lt;00:00, 3397721.28it/s]",
            "_view_count": null,
            "_view_module_version": "1.5.0",
            "description_tooltip": null,
            "_model_module": "@jupyter-widgets/controls",
            "layout": "IPY_MODEL_985346bda18c45638af852d78ccc34bc"
          }
        },
        "a5897f1a7dbb4e8694894a933a3dc2c7": {
          "model_module": "@jupyter-widgets/controls",
          "model_name": "ProgressStyleModel",
          "state": {
            "_view_name": "StyleView",
            "_model_name": "ProgressStyleModel",
            "description_width": "initial",
            "_view_module": "@jupyter-widgets/base",
            "_model_module_version": "1.5.0",
            "_view_count": null,
            "_view_module_version": "1.2.0",
            "bar_color": null,
            "_model_module": "@jupyter-widgets/controls"
          }
        },
        "4313b5390395419db324ada0f6cfae27": {
          "model_module": "@jupyter-widgets/base",
          "model_name": "LayoutModel",
          "state": {
            "_view_name": "LayoutView",
            "grid_template_rows": null,
            "right": null,
            "justify_content": null,
            "_view_module": "@jupyter-widgets/base",
            "overflow": null,
            "_model_module_version": "1.2.0",
            "_view_count": null,
            "flex_flow": null,
            "width": null,
            "min_width": null,
            "border": null,
            "align_items": null,
            "bottom": null,
            "_model_module": "@jupyter-widgets/base",
            "top": null,
            "grid_column": null,
            "overflow_y": null,
            "overflow_x": null,
            "grid_auto_flow": null,
            "grid_area": null,
            "grid_template_columns": null,
            "flex": null,
            "_model_name": "LayoutModel",
            "justify_items": null,
            "grid_row": null,
            "max_height": null,
            "align_content": null,
            "visibility": null,
            "align_self": null,
            "height": null,
            "min_height": null,
            "padding": null,
            "grid_auto_rows": null,
            "grid_gap": null,
            "max_width": null,
            "order": null,
            "_view_module_version": "1.2.0",
            "grid_template_areas": null,
            "object_position": null,
            "object_fit": null,
            "grid_auto_columns": null,
            "margin": null,
            "display": null,
            "left": null
          }
        },
        "6cdab3ed260248eb80126efc3ed326ba": {
          "model_module": "@jupyter-widgets/controls",
          "model_name": "DescriptionStyleModel",
          "state": {
            "_view_name": "StyleView",
            "_model_name": "DescriptionStyleModel",
            "description_width": "",
            "_view_module": "@jupyter-widgets/base",
            "_model_module_version": "1.5.0",
            "_view_count": null,
            "_view_module_version": "1.2.0",
            "_model_module": "@jupyter-widgets/controls"
          }
        },
        "985346bda18c45638af852d78ccc34bc": {
          "model_module": "@jupyter-widgets/base",
          "model_name": "LayoutModel",
          "state": {
            "_view_name": "LayoutView",
            "grid_template_rows": null,
            "right": null,
            "justify_content": null,
            "_view_module": "@jupyter-widgets/base",
            "overflow": null,
            "_model_module_version": "1.2.0",
            "_view_count": null,
            "flex_flow": null,
            "width": null,
            "min_width": null,
            "border": null,
            "align_items": null,
            "bottom": null,
            "_model_module": "@jupyter-widgets/base",
            "top": null,
            "grid_column": null,
            "overflow_y": null,
            "overflow_x": null,
            "grid_auto_flow": null,
            "grid_area": null,
            "grid_template_columns": null,
            "flex": null,
            "_model_name": "LayoutModel",
            "justify_items": null,
            "grid_row": null,
            "max_height": null,
            "align_content": null,
            "visibility": null,
            "align_self": null,
            "height": null,
            "min_height": null,
            "padding": null,
            "grid_auto_rows": null,
            "grid_gap": null,
            "max_width": null,
            "order": null,
            "_view_module_version": "1.2.0",
            "grid_template_areas": null,
            "object_position": null,
            "object_fit": null,
            "grid_auto_columns": null,
            "margin": null,
            "display": null,
            "left": null
          }
        },
        "77f26ab2634243499bb4a8f44f85a4c6": {
          "model_module": "@jupyter-widgets/controls",
          "model_name": "HBoxModel",
          "state": {
            "_view_name": "HBoxView",
            "_dom_classes": [],
            "_model_name": "HBoxModel",
            "_view_module": "@jupyter-widgets/controls",
            "_model_module_version": "1.5.0",
            "_view_count": null,
            "_view_module_version": "1.5.0",
            "box_style": "",
            "layout": "IPY_MODEL_322d33266da340cbb2a590b12de914ad",
            "_model_module": "@jupyter-widgets/controls",
            "children": [
              "IPY_MODEL_1b9ceb1d5b09446a80df4d0900746f46",
              "IPY_MODEL_d0c72371308f41549ca355539357100d"
            ]
          }
        },
        "322d33266da340cbb2a590b12de914ad": {
          "model_module": "@jupyter-widgets/base",
          "model_name": "LayoutModel",
          "state": {
            "_view_name": "LayoutView",
            "grid_template_rows": null,
            "right": null,
            "justify_content": null,
            "_view_module": "@jupyter-widgets/base",
            "overflow": null,
            "_model_module_version": "1.2.0",
            "_view_count": null,
            "flex_flow": null,
            "width": null,
            "min_width": null,
            "border": null,
            "align_items": null,
            "bottom": null,
            "_model_module": "@jupyter-widgets/base",
            "top": null,
            "grid_column": null,
            "overflow_y": null,
            "overflow_x": null,
            "grid_auto_flow": null,
            "grid_area": null,
            "grid_template_columns": null,
            "flex": null,
            "_model_name": "LayoutModel",
            "justify_items": null,
            "grid_row": null,
            "max_height": null,
            "align_content": null,
            "visibility": null,
            "align_self": null,
            "height": null,
            "min_height": null,
            "padding": null,
            "grid_auto_rows": null,
            "grid_gap": null,
            "max_width": null,
            "order": null,
            "_view_module_version": "1.2.0",
            "grid_template_areas": null,
            "object_position": null,
            "object_fit": null,
            "grid_auto_columns": null,
            "margin": null,
            "display": null,
            "left": null
          }
        },
        "1b9ceb1d5b09446a80df4d0900746f46": {
          "model_module": "@jupyter-widgets/controls",
          "model_name": "FloatProgressModel",
          "state": {
            "_view_name": "ProgressView",
            "style": "IPY_MODEL_c1028b1441724d3abe3665a83ccbe077",
            "_dom_classes": [],
            "description": "",
            "_model_name": "FloatProgressModel",
            "bar_style": "success",
            "max": 1,
            "_view_module": "@jupyter-widgets/controls",
            "_model_module_version": "1.5.0",
            "value": 1,
            "_view_count": null,
            "_view_module_version": "1.5.0",
            "orientation": "horizontal",
            "min": 0,
            "description_tooltip": null,
            "_model_module": "@jupyter-widgets/controls",
            "layout": "IPY_MODEL_8809bd94ad1040f4b8afff2bd63b41f7"
          }
        },
        "d0c72371308f41549ca355539357100d": {
          "model_module": "@jupyter-widgets/controls",
          "model_name": "HTMLModel",
          "state": {
            "_view_name": "HTMLView",
            "style": "IPY_MODEL_52835ef6091245d4a292f30a3be51b3a",
            "_dom_classes": [],
            "description": "",
            "_model_name": "HTMLModel",
            "placeholder": "​",
            "_view_module": "@jupyter-widgets/controls",
            "_model_module_version": "1.5.0",
            "value": " 32768/? [00:01&lt;00:00, 22130.80it/s]",
            "_view_count": null,
            "_view_module_version": "1.5.0",
            "description_tooltip": null,
            "_model_module": "@jupyter-widgets/controls",
            "layout": "IPY_MODEL_4b685c5eae8449518202969ce62c51c3"
          }
        },
        "c1028b1441724d3abe3665a83ccbe077": {
          "model_module": "@jupyter-widgets/controls",
          "model_name": "ProgressStyleModel",
          "state": {
            "_view_name": "StyleView",
            "_model_name": "ProgressStyleModel",
            "description_width": "initial",
            "_view_module": "@jupyter-widgets/base",
            "_model_module_version": "1.5.0",
            "_view_count": null,
            "_view_module_version": "1.2.0",
            "bar_color": null,
            "_model_module": "@jupyter-widgets/controls"
          }
        },
        "8809bd94ad1040f4b8afff2bd63b41f7": {
          "model_module": "@jupyter-widgets/base",
          "model_name": "LayoutModel",
          "state": {
            "_view_name": "LayoutView",
            "grid_template_rows": null,
            "right": null,
            "justify_content": null,
            "_view_module": "@jupyter-widgets/base",
            "overflow": null,
            "_model_module_version": "1.2.0",
            "_view_count": null,
            "flex_flow": null,
            "width": null,
            "min_width": null,
            "border": null,
            "align_items": null,
            "bottom": null,
            "_model_module": "@jupyter-widgets/base",
            "top": null,
            "grid_column": null,
            "overflow_y": null,
            "overflow_x": null,
            "grid_auto_flow": null,
            "grid_area": null,
            "grid_template_columns": null,
            "flex": null,
            "_model_name": "LayoutModel",
            "justify_items": null,
            "grid_row": null,
            "max_height": null,
            "align_content": null,
            "visibility": null,
            "align_self": null,
            "height": null,
            "min_height": null,
            "padding": null,
            "grid_auto_rows": null,
            "grid_gap": null,
            "max_width": null,
            "order": null,
            "_view_module_version": "1.2.0",
            "grid_template_areas": null,
            "object_position": null,
            "object_fit": null,
            "grid_auto_columns": null,
            "margin": null,
            "display": null,
            "left": null
          }
        },
        "52835ef6091245d4a292f30a3be51b3a": {
          "model_module": "@jupyter-widgets/controls",
          "model_name": "DescriptionStyleModel",
          "state": {
            "_view_name": "StyleView",
            "_model_name": "DescriptionStyleModel",
            "description_width": "",
            "_view_module": "@jupyter-widgets/base",
            "_model_module_version": "1.5.0",
            "_view_count": null,
            "_view_module_version": "1.2.0",
            "_model_module": "@jupyter-widgets/controls"
          }
        },
        "4b685c5eae8449518202969ce62c51c3": {
          "model_module": "@jupyter-widgets/base",
          "model_name": "LayoutModel",
          "state": {
            "_view_name": "LayoutView",
            "grid_template_rows": null,
            "right": null,
            "justify_content": null,
            "_view_module": "@jupyter-widgets/base",
            "overflow": null,
            "_model_module_version": "1.2.0",
            "_view_count": null,
            "flex_flow": null,
            "width": null,
            "min_width": null,
            "border": null,
            "align_items": null,
            "bottom": null,
            "_model_module": "@jupyter-widgets/base",
            "top": null,
            "grid_column": null,
            "overflow_y": null,
            "overflow_x": null,
            "grid_auto_flow": null,
            "grid_area": null,
            "grid_template_columns": null,
            "flex": null,
            "_model_name": "LayoutModel",
            "justify_items": null,
            "grid_row": null,
            "max_height": null,
            "align_content": null,
            "visibility": null,
            "align_self": null,
            "height": null,
            "min_height": null,
            "padding": null,
            "grid_auto_rows": null,
            "grid_gap": null,
            "max_width": null,
            "order": null,
            "_view_module_version": "1.2.0",
            "grid_template_areas": null,
            "object_position": null,
            "object_fit": null,
            "grid_auto_columns": null,
            "margin": null,
            "display": null,
            "left": null
          }
        },
        "bb75f7539c1248e7af1e6d47c2da8cd0": {
          "model_module": "@jupyter-widgets/controls",
          "model_name": "HBoxModel",
          "state": {
            "_view_name": "HBoxView",
            "_dom_classes": [],
            "_model_name": "HBoxModel",
            "_view_module": "@jupyter-widgets/controls",
            "_model_module_version": "1.5.0",
            "_view_count": null,
            "_view_module_version": "1.5.0",
            "box_style": "",
            "layout": "IPY_MODEL_071242378f2f493cb462babfa1423841",
            "_model_module": "@jupyter-widgets/controls",
            "children": [
              "IPY_MODEL_ee0ccdeacf2c45c1b56bb7e914a79d99",
              "IPY_MODEL_888e4366beea49a0993f39e1fec9c0fd"
            ]
          }
        },
        "071242378f2f493cb462babfa1423841": {
          "model_module": "@jupyter-widgets/base",
          "model_name": "LayoutModel",
          "state": {
            "_view_name": "LayoutView",
            "grid_template_rows": null,
            "right": null,
            "justify_content": null,
            "_view_module": "@jupyter-widgets/base",
            "overflow": null,
            "_model_module_version": "1.2.0",
            "_view_count": null,
            "flex_flow": null,
            "width": null,
            "min_width": null,
            "border": null,
            "align_items": null,
            "bottom": null,
            "_model_module": "@jupyter-widgets/base",
            "top": null,
            "grid_column": null,
            "overflow_y": null,
            "overflow_x": null,
            "grid_auto_flow": null,
            "grid_area": null,
            "grid_template_columns": null,
            "flex": null,
            "_model_name": "LayoutModel",
            "justify_items": null,
            "grid_row": null,
            "max_height": null,
            "align_content": null,
            "visibility": null,
            "align_self": null,
            "height": null,
            "min_height": null,
            "padding": null,
            "grid_auto_rows": null,
            "grid_gap": null,
            "max_width": null,
            "order": null,
            "_view_module_version": "1.2.0",
            "grid_template_areas": null,
            "object_position": null,
            "object_fit": null,
            "grid_auto_columns": null,
            "margin": null,
            "display": null,
            "left": null
          }
        },
        "ee0ccdeacf2c45c1b56bb7e914a79d99": {
          "model_module": "@jupyter-widgets/controls",
          "model_name": "FloatProgressModel",
          "state": {
            "_view_name": "ProgressView",
            "style": "IPY_MODEL_9bf74217df8e44f1a8bd751f041821a6",
            "_dom_classes": [],
            "description": "",
            "_model_name": "FloatProgressModel",
            "bar_style": "success",
            "max": 1,
            "_view_module": "@jupyter-widgets/controls",
            "_model_module_version": "1.5.0",
            "value": 1,
            "_view_count": null,
            "_view_module_version": "1.5.0",
            "orientation": "horizontal",
            "min": 0,
            "description_tooltip": null,
            "_model_module": "@jupyter-widgets/controls",
            "layout": "IPY_MODEL_496e0a49e2074959abce048853b19fd7"
          }
        },
        "888e4366beea49a0993f39e1fec9c0fd": {
          "model_module": "@jupyter-widgets/controls",
          "model_name": "HTMLModel",
          "state": {
            "_view_name": "HTMLView",
            "style": "IPY_MODEL_b0f61b0c2d8246bba95f34be8886e4db",
            "_dom_classes": [],
            "description": "",
            "_model_name": "HTMLModel",
            "placeholder": "​",
            "_view_module": "@jupyter-widgets/controls",
            "_model_module_version": "1.5.0",
            "value": " 1654784/? [00:01&lt;00:00, 1449737.71it/s]",
            "_view_count": null,
            "_view_module_version": "1.5.0",
            "description_tooltip": null,
            "_model_module": "@jupyter-widgets/controls",
            "layout": "IPY_MODEL_4778a23ca6ac40ba8ff2971d44ad2dc0"
          }
        },
        "9bf74217df8e44f1a8bd751f041821a6": {
          "model_module": "@jupyter-widgets/controls",
          "model_name": "ProgressStyleModel",
          "state": {
            "_view_name": "StyleView",
            "_model_name": "ProgressStyleModel",
            "description_width": "initial",
            "_view_module": "@jupyter-widgets/base",
            "_model_module_version": "1.5.0",
            "_view_count": null,
            "_view_module_version": "1.2.0",
            "bar_color": null,
            "_model_module": "@jupyter-widgets/controls"
          }
        },
        "496e0a49e2074959abce048853b19fd7": {
          "model_module": "@jupyter-widgets/base",
          "model_name": "LayoutModel",
          "state": {
            "_view_name": "LayoutView",
            "grid_template_rows": null,
            "right": null,
            "justify_content": null,
            "_view_module": "@jupyter-widgets/base",
            "overflow": null,
            "_model_module_version": "1.2.0",
            "_view_count": null,
            "flex_flow": null,
            "width": null,
            "min_width": null,
            "border": null,
            "align_items": null,
            "bottom": null,
            "_model_module": "@jupyter-widgets/base",
            "top": null,
            "grid_column": null,
            "overflow_y": null,
            "overflow_x": null,
            "grid_auto_flow": null,
            "grid_area": null,
            "grid_template_columns": null,
            "flex": null,
            "_model_name": "LayoutModel",
            "justify_items": null,
            "grid_row": null,
            "max_height": null,
            "align_content": null,
            "visibility": null,
            "align_self": null,
            "height": null,
            "min_height": null,
            "padding": null,
            "grid_auto_rows": null,
            "grid_gap": null,
            "max_width": null,
            "order": null,
            "_view_module_version": "1.2.0",
            "grid_template_areas": null,
            "object_position": null,
            "object_fit": null,
            "grid_auto_columns": null,
            "margin": null,
            "display": null,
            "left": null
          }
        },
        "b0f61b0c2d8246bba95f34be8886e4db": {
          "model_module": "@jupyter-widgets/controls",
          "model_name": "DescriptionStyleModel",
          "state": {
            "_view_name": "StyleView",
            "_model_name": "DescriptionStyleModel",
            "description_width": "",
            "_view_module": "@jupyter-widgets/base",
            "_model_module_version": "1.5.0",
            "_view_count": null,
            "_view_module_version": "1.2.0",
            "_model_module": "@jupyter-widgets/controls"
          }
        },
        "4778a23ca6ac40ba8ff2971d44ad2dc0": {
          "model_module": "@jupyter-widgets/base",
          "model_name": "LayoutModel",
          "state": {
            "_view_name": "LayoutView",
            "grid_template_rows": null,
            "right": null,
            "justify_content": null,
            "_view_module": "@jupyter-widgets/base",
            "overflow": null,
            "_model_module_version": "1.2.0",
            "_view_count": null,
            "flex_flow": null,
            "width": null,
            "min_width": null,
            "border": null,
            "align_items": null,
            "bottom": null,
            "_model_module": "@jupyter-widgets/base",
            "top": null,
            "grid_column": null,
            "overflow_y": null,
            "overflow_x": null,
            "grid_auto_flow": null,
            "grid_area": null,
            "grid_template_columns": null,
            "flex": null,
            "_model_name": "LayoutModel",
            "justify_items": null,
            "grid_row": null,
            "max_height": null,
            "align_content": null,
            "visibility": null,
            "align_self": null,
            "height": null,
            "min_height": null,
            "padding": null,
            "grid_auto_rows": null,
            "grid_gap": null,
            "max_width": null,
            "order": null,
            "_view_module_version": "1.2.0",
            "grid_template_areas": null,
            "object_position": null,
            "object_fit": null,
            "grid_auto_columns": null,
            "margin": null,
            "display": null,
            "left": null
          }
        },
        "817efe10a3b447d0a2d0d3feb7390f67": {
          "model_module": "@jupyter-widgets/controls",
          "model_name": "HBoxModel",
          "state": {
            "_view_name": "HBoxView",
            "_dom_classes": [],
            "_model_name": "HBoxModel",
            "_view_module": "@jupyter-widgets/controls",
            "_model_module_version": "1.5.0",
            "_view_count": null,
            "_view_module_version": "1.5.0",
            "box_style": "",
            "layout": "IPY_MODEL_8094a1adcdc3419d8bacf4dff6b0f157",
            "_model_module": "@jupyter-widgets/controls",
            "children": [
              "IPY_MODEL_3293b9b07b304aaebb529fca87980d12",
              "IPY_MODEL_7dc67033a0734de68d916968eec479ec"
            ]
          }
        },
        "8094a1adcdc3419d8bacf4dff6b0f157": {
          "model_module": "@jupyter-widgets/base",
          "model_name": "LayoutModel",
          "state": {
            "_view_name": "LayoutView",
            "grid_template_rows": null,
            "right": null,
            "justify_content": null,
            "_view_module": "@jupyter-widgets/base",
            "overflow": null,
            "_model_module_version": "1.2.0",
            "_view_count": null,
            "flex_flow": null,
            "width": null,
            "min_width": null,
            "border": null,
            "align_items": null,
            "bottom": null,
            "_model_module": "@jupyter-widgets/base",
            "top": null,
            "grid_column": null,
            "overflow_y": null,
            "overflow_x": null,
            "grid_auto_flow": null,
            "grid_area": null,
            "grid_template_columns": null,
            "flex": null,
            "_model_name": "LayoutModel",
            "justify_items": null,
            "grid_row": null,
            "max_height": null,
            "align_content": null,
            "visibility": null,
            "align_self": null,
            "height": null,
            "min_height": null,
            "padding": null,
            "grid_auto_rows": null,
            "grid_gap": null,
            "max_width": null,
            "order": null,
            "_view_module_version": "1.2.0",
            "grid_template_areas": null,
            "object_position": null,
            "object_fit": null,
            "grid_auto_columns": null,
            "margin": null,
            "display": null,
            "left": null
          }
        },
        "3293b9b07b304aaebb529fca87980d12": {
          "model_module": "@jupyter-widgets/controls",
          "model_name": "FloatProgressModel",
          "state": {
            "_view_name": "ProgressView",
            "style": "IPY_MODEL_4c6e8acbe8f8483a97ad2ffed3cbf65e",
            "_dom_classes": [],
            "description": "",
            "_model_name": "FloatProgressModel",
            "bar_style": "success",
            "max": 1,
            "_view_module": "@jupyter-widgets/controls",
            "_model_module_version": "1.5.0",
            "value": 1,
            "_view_count": null,
            "_view_module_version": "1.5.0",
            "orientation": "horizontal",
            "min": 0,
            "description_tooltip": null,
            "_model_module": "@jupyter-widgets/controls",
            "layout": "IPY_MODEL_9f06456e35694b99ad9982113781ef0f"
          }
        },
        "7dc67033a0734de68d916968eec479ec": {
          "model_module": "@jupyter-widgets/controls",
          "model_name": "HTMLModel",
          "state": {
            "_view_name": "HTMLView",
            "style": "IPY_MODEL_9da7c24debc74646a707fdf8b31ceda2",
            "_dom_classes": [],
            "description": "",
            "_model_name": "HTMLModel",
            "placeholder": "​",
            "_view_module": "@jupyter-widgets/controls",
            "_model_module_version": "1.5.0",
            "value": " 8192/? [00:00&lt;00:00, 19286.96it/s]",
            "_view_count": null,
            "_view_module_version": "1.5.0",
            "description_tooltip": null,
            "_model_module": "@jupyter-widgets/controls",
            "layout": "IPY_MODEL_e9a7b886c74e47b6aeaffe3f967bde72"
          }
        },
        "4c6e8acbe8f8483a97ad2ffed3cbf65e": {
          "model_module": "@jupyter-widgets/controls",
          "model_name": "ProgressStyleModel",
          "state": {
            "_view_name": "StyleView",
            "_model_name": "ProgressStyleModel",
            "description_width": "initial",
            "_view_module": "@jupyter-widgets/base",
            "_model_module_version": "1.5.0",
            "_view_count": null,
            "_view_module_version": "1.2.0",
            "bar_color": null,
            "_model_module": "@jupyter-widgets/controls"
          }
        },
        "9f06456e35694b99ad9982113781ef0f": {
          "model_module": "@jupyter-widgets/base",
          "model_name": "LayoutModel",
          "state": {
            "_view_name": "LayoutView",
            "grid_template_rows": null,
            "right": null,
            "justify_content": null,
            "_view_module": "@jupyter-widgets/base",
            "overflow": null,
            "_model_module_version": "1.2.0",
            "_view_count": null,
            "flex_flow": null,
            "width": null,
            "min_width": null,
            "border": null,
            "align_items": null,
            "bottom": null,
            "_model_module": "@jupyter-widgets/base",
            "top": null,
            "grid_column": null,
            "overflow_y": null,
            "overflow_x": null,
            "grid_auto_flow": null,
            "grid_area": null,
            "grid_template_columns": null,
            "flex": null,
            "_model_name": "LayoutModel",
            "justify_items": null,
            "grid_row": null,
            "max_height": null,
            "align_content": null,
            "visibility": null,
            "align_self": null,
            "height": null,
            "min_height": null,
            "padding": null,
            "grid_auto_rows": null,
            "grid_gap": null,
            "max_width": null,
            "order": null,
            "_view_module_version": "1.2.0",
            "grid_template_areas": null,
            "object_position": null,
            "object_fit": null,
            "grid_auto_columns": null,
            "margin": null,
            "display": null,
            "left": null
          }
        },
        "9da7c24debc74646a707fdf8b31ceda2": {
          "model_module": "@jupyter-widgets/controls",
          "model_name": "DescriptionStyleModel",
          "state": {
            "_view_name": "StyleView",
            "_model_name": "DescriptionStyleModel",
            "description_width": "",
            "_view_module": "@jupyter-widgets/base",
            "_model_module_version": "1.5.0",
            "_view_count": null,
            "_view_module_version": "1.2.0",
            "_model_module": "@jupyter-widgets/controls"
          }
        },
        "e9a7b886c74e47b6aeaffe3f967bde72": {
          "model_module": "@jupyter-widgets/base",
          "model_name": "LayoutModel",
          "state": {
            "_view_name": "LayoutView",
            "grid_template_rows": null,
            "right": null,
            "justify_content": null,
            "_view_module": "@jupyter-widgets/base",
            "overflow": null,
            "_model_module_version": "1.2.0",
            "_view_count": null,
            "flex_flow": null,
            "width": null,
            "min_width": null,
            "border": null,
            "align_items": null,
            "bottom": null,
            "_model_module": "@jupyter-widgets/base",
            "top": null,
            "grid_column": null,
            "overflow_y": null,
            "overflow_x": null,
            "grid_auto_flow": null,
            "grid_area": null,
            "grid_template_columns": null,
            "flex": null,
            "_model_name": "LayoutModel",
            "justify_items": null,
            "grid_row": null,
            "max_height": null,
            "align_content": null,
            "visibility": null,
            "align_self": null,
            "height": null,
            "min_height": null,
            "padding": null,
            "grid_auto_rows": null,
            "grid_gap": null,
            "max_width": null,
            "order": null,
            "_view_module_version": "1.2.0",
            "grid_template_areas": null,
            "object_position": null,
            "object_fit": null,
            "grid_auto_columns": null,
            "margin": null,
            "display": null,
            "left": null
          }
        }
      }
    }
  },
  "cells": [
    {
      "cell_type": "code",
      "metadata": {
        "id": "MiggylgS7xka"
      },
      "source": [
        "from __future__ import print_function\r\n",
        "import torch\r\n",
        "import torch.nn as nn\r\n",
        "import torch.nn.functional as F\r\n",
        "import torch.optim as optim\r\n",
        "from torchvision import datasets, transforms"
      ],
      "execution_count": 2,
      "outputs": []
    },
    {
      "cell_type": "code",
      "metadata": {
        "id": "NERLnTNjOLQL"
      },
      "source": [
        "# Train Phase transformations\r\n",
        "train_transforms = transforms.Compose([\r\n",
        "                                      #  transforms.Resize((28, 28)),\r\n",
        "                                      #  transforms.ColorJitter(brightness=0.10, contrast=0.1, saturation=0.10, hue=0.1),\r\n",
        "                                       transforms.ToTensor(),\r\n",
        "                                       transforms.Normalize((0.1307,), (0.3081,)) # The mean and std have to be sequences (e.g., tuples), therefore you should add a comma after the values. \r\n",
        "                                       # Note the difference between (0.1307) and (0.1307,)\r\n",
        "                                       ])\r\n",
        "\r\n",
        "# Test Phase transformations\r\n",
        "test_transforms = transforms.Compose([\r\n",
        "                                      #  transforms.Resize((28, 28)),\r\n",
        "                                      #  transforms.ColorJitter(brightness=0.10, contrast=0.1, saturation=0.10, hue=0.1),\r\n",
        "                                       transforms.ToTensor(),\r\n",
        "                                       transforms.Normalize((0.1307,), (0.3081,))\r\n",
        "                                       ])\r\n"
      ],
      "execution_count": 3,
      "outputs": []
    },
    {
      "cell_type": "code",
      "metadata": {
        "id": "-3NfTt0uPHTB",
        "colab": {
          "base_uri": "https://localhost:8080/",
          "height": 366,
          "referenced_widgets": [
            "92c21e5a96fc4c1794f554aa601cff67",
            "2932946674544c97b2d74d89b5fb3908",
            "dca317ce6c5d48629499f3b783ef6303",
            "915d3757853748b7bb79cf3b5dbbee8f",
            "a5897f1a7dbb4e8694894a933a3dc2c7",
            "4313b5390395419db324ada0f6cfae27",
            "6cdab3ed260248eb80126efc3ed326ba",
            "985346bda18c45638af852d78ccc34bc",
            "77f26ab2634243499bb4a8f44f85a4c6",
            "322d33266da340cbb2a590b12de914ad",
            "1b9ceb1d5b09446a80df4d0900746f46",
            "d0c72371308f41549ca355539357100d",
            "c1028b1441724d3abe3665a83ccbe077",
            "8809bd94ad1040f4b8afff2bd63b41f7",
            "52835ef6091245d4a292f30a3be51b3a",
            "4b685c5eae8449518202969ce62c51c3",
            "bb75f7539c1248e7af1e6d47c2da8cd0",
            "071242378f2f493cb462babfa1423841",
            "ee0ccdeacf2c45c1b56bb7e914a79d99",
            "888e4366beea49a0993f39e1fec9c0fd",
            "9bf74217df8e44f1a8bd751f041821a6",
            "496e0a49e2074959abce048853b19fd7",
            "b0f61b0c2d8246bba95f34be8886e4db",
            "4778a23ca6ac40ba8ff2971d44ad2dc0",
            "817efe10a3b447d0a2d0d3feb7390f67",
            "8094a1adcdc3419d8bacf4dff6b0f157",
            "3293b9b07b304aaebb529fca87980d12",
            "7dc67033a0734de68d916968eec479ec",
            "4c6e8acbe8f8483a97ad2ffed3cbf65e",
            "9f06456e35694b99ad9982113781ef0f",
            "9da7c24debc74646a707fdf8b31ceda2",
            "e9a7b886c74e47b6aeaffe3f967bde72"
          ]
        },
        "outputId": "3d841bc5-5be8-4827-cbb3-5b69142eb7b5"
      },
      "source": [
        "train = datasets.MNIST('./data', train=True, download=True, transform=train_transforms)\r\n",
        "test = datasets.MNIST('./data', train=False, download=True, transform=test_transforms)"
      ],
      "execution_count": 4,
      "outputs": [
        {
          "output_type": "stream",
          "text": [
            "Downloading http://yann.lecun.com/exdb/mnist/train-images-idx3-ubyte.gz to ./data/MNIST/raw/train-images-idx3-ubyte.gz\n"
          ],
          "name": "stdout"
        },
        {
          "output_type": "display_data",
          "data": {
            "application/vnd.jupyter.widget-view+json": {
              "model_id": "92c21e5a96fc4c1794f554aa601cff67",
              "version_minor": 0,
              "version_major": 2
            },
            "text/plain": [
              "HBox(children=(FloatProgress(value=1.0, bar_style='info', max=1.0), HTML(value='')))"
            ]
          },
          "metadata": {
            "tags": []
          }
        },
        {
          "output_type": "stream",
          "text": [
            "Extracting ./data/MNIST/raw/train-images-idx3-ubyte.gz to ./data/MNIST/raw\n",
            "Downloading http://yann.lecun.com/exdb/mnist/train-labels-idx1-ubyte.gz to ./data/MNIST/raw/train-labels-idx1-ubyte.gz\n"
          ],
          "name": "stdout"
        },
        {
          "output_type": "display_data",
          "data": {
            "application/vnd.jupyter.widget-view+json": {
              "model_id": "77f26ab2634243499bb4a8f44f85a4c6",
              "version_minor": 0,
              "version_major": 2
            },
            "text/plain": [
              "HBox(children=(FloatProgress(value=1.0, bar_style='info', max=1.0), HTML(value='')))"
            ]
          },
          "metadata": {
            "tags": []
          }
        },
        {
          "output_type": "stream",
          "text": [
            "Extracting ./data/MNIST/raw/train-labels-idx1-ubyte.gz to ./data/MNIST/raw\n",
            "Downloading http://yann.lecun.com/exdb/mnist/t10k-images-idx3-ubyte.gz to ./data/MNIST/raw/t10k-images-idx3-ubyte.gz\n"
          ],
          "name": "stdout"
        },
        {
          "output_type": "display_data",
          "data": {
            "application/vnd.jupyter.widget-view+json": {
              "model_id": "bb75f7539c1248e7af1e6d47c2da8cd0",
              "version_minor": 0,
              "version_major": 2
            },
            "text/plain": [
              "HBox(children=(FloatProgress(value=1.0, bar_style='info', max=1.0), HTML(value='')))"
            ]
          },
          "metadata": {
            "tags": []
          }
        },
        {
          "output_type": "stream",
          "text": [
            "Extracting ./data/MNIST/raw/t10k-images-idx3-ubyte.gz to ./data/MNIST/raw\n",
            "Downloading http://yann.lecun.com/exdb/mnist/t10k-labels-idx1-ubyte.gz to ./data/MNIST/raw/t10k-labels-idx1-ubyte.gz\n"
          ],
          "name": "stdout"
        },
        {
          "output_type": "display_data",
          "data": {
            "application/vnd.jupyter.widget-view+json": {
              "model_id": "817efe10a3b447d0a2d0d3feb7390f67",
              "version_minor": 0,
              "version_major": 2
            },
            "text/plain": [
              "HBox(children=(FloatProgress(value=1.0, bar_style='info', max=1.0), HTML(value='')))"
            ]
          },
          "metadata": {
            "tags": []
          }
        },
        {
          "output_type": "stream",
          "text": [
            "Extracting ./data/MNIST/raw/t10k-labels-idx1-ubyte.gz to ./data/MNIST/raw\n",
            "Processing...\n",
            "Done!\n"
          ],
          "name": "stdout"
        },
        {
          "output_type": "stream",
          "text": [
            "/usr/local/lib/python3.6/dist-packages/torchvision/datasets/mnist.py:480: UserWarning: The given NumPy array is not writeable, and PyTorch does not support non-writeable tensors. This means you can write to the underlying (supposedly non-writeable) NumPy array using the tensor. You may want to copy the array to protect its data or make it writeable before converting it to a tensor. This type of warning will be suppressed for the rest of this program. (Triggered internally at  /pytorch/torch/csrc/utils/tensor_numpy.cpp:141.)\n",
            "  return torch.from_numpy(parsed.astype(m[2], copy=False)).view(*s)\n"
          ],
          "name": "stderr"
        }
      ]
    },
    {
      "cell_type": "code",
      "metadata": {
        "colab": {
          "base_uri": "https://localhost:8080/",
          "height": 349
        },
        "id": "8ORChCB9PPBK",
        "outputId": "f2860804-65d2-429b-849d-7bf73101c874"
      },
      "source": [
        "image, label = next(iter(train))\r\n",
        "\r\n",
        "import matplotlib.pyplot as plt\r\n",
        "\r\n",
        "plt.imshow(image.numpy().reshape(28,28),cmap = 'gray')\r\n",
        "\r\n",
        "print('LABEL : ' , label)"
      ],
      "execution_count": 5,
      "outputs": [
        {
          "output_type": "stream",
          "text": [
            "\n",
            "\n",
            "LABEL :  5\n",
            "\n",
            "\n"
          ],
          "name": "stdout"
        },
        {
          "output_type": "display_data",
          "data": {
            "image/png": "[encoded data removed]",
            "text/plain": [
              "<Figure size 432x288 with 1 Axes>"
            ]
          },
          "metadata": {
            "tags": [],
            "needs_background": "light"
          }
        }
      ]
    },
    {
      "cell_type": "code",
      "metadata": {
        "id": "z58pjYCnP3Nv"
      },
      "source": [
        "x = [image.numpy().reshape(28,28) for image,label in iter(train)]\r\n",
        "\r\n",
        "import numpy as np\r\n",
        "x = np.array(x)"
      ],
      "execution_count": 6,
      "outputs": []
    },
    {
      "cell_type": "code",
      "metadata": {
        "colab": {
          "base_uri": "https://localhost:8080/"
        },
        "id": "U0mREOyIQqZC",
        "outputId": "ec4cda65-91d2-41da-bbea-939dc4a6842b"
      },
      "source": [
        "x.mean()"
      ],
      "execution_count": 7,
      "outputs": [
        {
          "output_type": "execute_result",
          "data": {
            "text/plain": [
              "-0.00012829367"
            ]
          },
          "metadata": {
            "tags": []
          },
          "execution_count": 7
        }
      ]
    },
    {
      "cell_type": "code",
      "metadata": {
        "colab": {
          "base_uri": "https://localhost:8080/"
        },
        "id": "r4xOPbPrQqbS",
        "outputId": "8ffbe889-bdaf-4648-c592-044c4c6d4ee8"
      },
      "source": [
        "x.std()"
      ],
      "execution_count": 8,
      "outputs": [
        {
          "output_type": "execute_result",
          "data": {
            "text/plain": [
              "1.0000249"
            ]
          },
          "metadata": {
            "tags": []
          },
          "execution_count": 8
        }
      ]
    },
    {
      "cell_type": "code",
      "metadata": {
        "colab": {
          "base_uri": "https://localhost:8080/"
        },
        "id": "9ZckKsWqSEfw",
        "outputId": "9e3ed9a5-b27f-48f1-d50d-02686ebaf037"
      },
      "source": [
        "# Download data\r\n",
        "sample_data = datasets.MNIST('./data', train=True, download=True).data\r\n",
        "\r\n",
        "np.mean(sample_data.numpy())\r\n",
        "\r\n",
        "np.max(sample_data.numpy())"
      ],
      "execution_count": 9,
      "outputs": [
        {
          "output_type": "execute_result",
          "data": {
            "text/plain": [
              "255"
            ]
          },
          "metadata": {
            "tags": []
          },
          "execution_count": 9
        }
      ]
    },
    {
      "cell_type": "code",
      "metadata": {
        "colab": {
          "base_uri": "https://localhost:8080/",
          "height": 416
        },
        "id": "8IiVx60gQqdT",
        "outputId": "7bf4c004-ce30-49d9-f6bf-54229314f129"
      },
      "source": [
        "# Download data\r\n",
        "sample_data = datasets.MNIST('./data', train=True, download=True).data\r\n",
        "\r\n",
        "# Setting the values in the data to be within the range [0, 1]\r\n",
        "sample_data = sample_data.numpy() / 255\r\n",
        "\r\n",
        "# Display some data statistics\r\n",
        "print('Data Statistics:')\r\n",
        "print(' - Data Shape:', sample_data.shape)\r\n",
        "print(' - min:', np.min(sample_data))\r\n",
        "print(' - max:', np.max(sample_data))\r\n",
        "print(' - mean: %.4f' % np.mean(sample_data))\r\n",
        "print(' - std: %.4f' % np.std(sample_data))\r\n",
        "print(' - var: %.4f\\n' % np.var(sample_data))\r\n",
        "\r\n",
        "# Visualize a sample from the data\r\n",
        "plt.imshow(sample_data[0], cmap='gray_r')"
      ],
      "execution_count": 10,
      "outputs": [
        {
          "output_type": "stream",
          "text": [
            "Data Statistics:\n",
            " - Data Shape: (60000, 28, 28)\n",
            " - min: 0.0\n",
            " - max: 1.0\n",
            " - mean: 0.1307\n",
            " - std: 0.3081\n",
            " - var: 0.0949\n",
            "\n"
          ],
          "name": "stdout"
        },
        {
          "output_type": "execute_result",
          "data": {
            "text/plain": [
              "<matplotlib.image.AxesImage at 0x7fadfbccbcc0>"
            ]
          },
          "metadata": {
            "tags": []
          },
          "execution_count": 10
        },
        {
          "output_type": "display_data",
          "data": {
            "image/png": "[encoded data removed]",
            "text/plain": [
              "<Figure size 432x288 with 1 Axes>"
            ]
          },
          "metadata": {
            "tags": [],
            "needs_background": "light"
          }
        }
      ]
    },
    {
      "cell_type": "code",
      "metadata": {
        "colab": {
          "base_uri": "https://localhost:8080/"
        },
        "id": "39hcDaCMPDfa",
        "outputId": "7c90527b-eef7-4940-bde5-4cf1103f6dbd"
      },
      "source": [
        "# We'd need to convert it into Numpy! Remember above we have converted it into tensors already\r\n",
        "train_data = train.train_data\r\n",
        "train_data = train.transform(train_data.numpy())"
      ],
      "execution_count": 11,
      "outputs": [
        {
          "output_type": "stream",
          "text": [
            "/usr/local/lib/python3.6/dist-packages/torchvision/datasets/mnist.py:58: UserWarning: train_data has been renamed data\n",
            "  warnings.warn(\"train_data has been renamed data\")\n"
          ],
          "name": "stderr"
        }
      ]
    },
    {
      "cell_type": "code",
      "metadata": {
        "colab": {
          "base_uri": "https://localhost:8080/"
        },
        "id": "qe5waWYgOLSS",
        "outputId": "75a34ee2-e8b2-40d7-f6c4-97378518ee28"
      },
      "source": [
        "SEED = 1\r\n",
        "\r\n",
        "# CUDA?\r\n",
        "cuda = torch.cuda.is_available()\r\n",
        "print(\"CUDA Available?\", cuda)\r\n",
        "\r\n",
        "# For reproducibility\r\n",
        "torch.manual_seed(SEED)\r\n",
        "\r\n",
        "if cuda:\r\n",
        "    torch.cuda.manual_seed(SEED)\r\n",
        "\r\n",
        "# dataloader arguments - something you'll fetch these from cmdprmt\r\n",
        "dataloader_args = dict(shuffle=True, batch_size=128, num_workers=4, pin_memory=True) if cuda else dict(shuffle=True, batch_size=64)\r\n",
        "\r\n",
        "# train dataloader\r\n",
        "train_loader = torch.utils.data.DataLoader(train, **dataloader_args)\r\n",
        "\r\n",
        "# test dataloader\r\n",
        "test_loader = torch.utils.data.DataLoader(test, **dataloader_args)\r\n",
        "\r\n",
        "\r\n"
      ],
      "execution_count": 12,
      "outputs": [
        {
          "output_type": "stream",
          "text": [
            "CUDA Available? True\n"
          ],
          "name": "stdout"
        }
      ]
    },
    {
      "cell_type": "code",
      "metadata": {
        "id": "_IOK2IQtOLUd",
        "colab": {
          "base_uri": "https://localhost:8080/",
          "height": 145
        },
        "outputId": "22c7a089-3b48-4d0c-e0cf-d6938bfad5c5"
      },
      "source": [
        ""
      ],
      "execution_count": 13,
      "outputs": [
        {
          "output_type": "error",
          "ename": "SyntaxError",
          "evalue": "ignored",
          "traceback": [
            "\u001b[0;36m  File \u001b[0;32m\"<ipython-input-13-8a3754b8b6b8>\"\u001b[0;36m, line \u001b[0;32m36\u001b[0m\n\u001b[0;31m    \"\"\"\"\u001b[0m\n\u001b[0m        \n^\u001b[0m\n\u001b[0;31mSyntaxError\u001b[0m\u001b[0;31m:\u001b[0m EOL while scanning string literal\n"
          ]
        }
      ]
    },
    {
      "cell_type": "code",
      "metadata": {
        "id": "nE8SkOqXOLW6"
      },
      "source": [
        "\r\n",
        "class Net(nn.Module):\r\n",
        "    def __init__(self):\r\n",
        "        super(Net, self).__init__()\r\n",
        "\r\n",
        "        self.conv1 = nn.Conv2d(in_channels=1, out_channels=16, kernel_size=(3, 3), padding=0, bias=False)\r\n",
        "        self.conv2 = nn.Conv2d(in_channels=16, out_channels=16, kernel_size=(3, 3), padding=0, bias=False)\r\n",
        "\r\n",
        "        self.pool  = nn.MaxPool2d(2, 2)\r\n",
        "\r\n",
        "        self.conv3 = nn.Conv2d(in_channels=16, out_channels=16, kernel_size=(3, 3), padding=0, bias=False)\r\n",
        "        self.conv4 = nn.Conv2d(in_channels=16, out_channels=32, kernel_size=(3, 3), padding=0, bias=False)\r\n",
        "\r\n",
        "        self.conv5 = nn.Conv2d(in_channels=32, out_channels=10, kernel_size=(1, 1), padding=0, bias=False)\r\n",
        "        self.out = nn.AdaptiveAvgPool2d(1)\r\n",
        "\r\n",
        "    def forward(self,x):\r\n",
        "\r\n",
        "      x = F.relu(self.conv1(x))\r\n",
        "      x = F.relu(self.conv2(x))\r\n",
        "\r\n",
        "      x = self.pool(x)\r\n",
        "\r\n",
        "      x = F.relu(self.conv3(x))\r\n",
        "      x = F.relu(self.conv4(x))\r\n",
        "\r\n",
        "      x = F.relu(self.conv5(x))\r\n",
        "\r\n",
        "      x = self.out(x)\r\n",
        "      x = x.view(-1, 10)\r\n",
        "\r\n",
        "      return F.log_softmax(x, dim =1)"
      ],
      "execution_count": 18,
      "outputs": []
    },
    {
      "cell_type": "code",
      "metadata": {
        "id": "NQgdERLMC8Az"
      },
      "source": [
        "# !pip install torchsummary\r\n",
        "from torchsummary import summary\r\n",
        "use_cuda = torch.cuda.is_available()\r\n",
        "device = torch.device(\"cuda\" if use_cuda else \"cpu\")\r\n"
      ],
      "execution_count": 19,
      "outputs": []
    },
    {
      "cell_type": "code",
      "metadata": {
        "id": "DQ5dzh88bxP7",
        "colab": {
          "base_uri": "https://localhost:8080/"
        },
        "outputId": "2d56b7fc-9805-42a5-d00a-4c4e41bc73c6"
      },
      "source": [
        "model = Net()\r\n",
        "model = Net().to(device)\r\n",
        "\r\n",
        "summary(model, input_size=(1, 28, 28))"
      ],
      "execution_count": 21,
      "outputs": [
        {
          "output_type": "stream",
          "text": [
            "----------------------------------------------------------------\n",
            "        Layer (type)               Output Shape         Param #\n",
            "================================================================\n",
            "            Conv2d-1           [-1, 16, 26, 26]             144\n",
            "            Conv2d-2           [-1, 16, 24, 24]           2,304\n",
            "         MaxPool2d-3           [-1, 16, 12, 12]               0\n",
            "            Conv2d-4           [-1, 16, 10, 10]           2,304\n",
            "            Conv2d-5             [-1, 32, 8, 8]           4,608\n",
            "            Conv2d-6             [-1, 10, 8, 8]             320\n",
            " AdaptiveAvgPool2d-7             [-1, 10, 1, 1]               0\n",
            "================================================================\n",
            "Total params: 9,680\n",
            "Trainable params: 9,680\n",
            "Non-trainable params: 0\n",
            "----------------------------------------------------------------\n",
            "Input size (MB): 0.00\n",
            "Forward/backward pass size (MB): 0.20\n",
            "Params size (MB): 0.04\n",
            "Estimated Total Size (MB): 0.24\n",
            "----------------------------------------------------------------\n"
          ],
          "name": "stdout"
        }
      ]
    },
    {
      "cell_type": "code",
      "metadata": {
        "id": "obUexR42DGmh"
      },
      "source": [
        "criterion = nn.CrossEntropyLoss()\r\n",
        "optimizer = torch.optim.Adam(model.parameters(),lr = 0.001)"
      ],
      "execution_count": 22,
      "outputs": []
    },
    {
      "cell_type": "code",
      "metadata": {
        "colab": {
          "base_uri": "https://localhost:8080/"
        },
        "id": "6iIeK3H6bjD5",
        "outputId": "eaf5b276-a7fe-4e0b-c379-8d8c771b700f"
      },
      "source": [
        "epochs = 15\r\n",
        "\r\n",
        "train_losses = []\r\n",
        "test_losses = []\r\n",
        "\r\n",
        "train_correct = []\r\n",
        "test_correct = []\r\n",
        "\r\n",
        "for i in range(epochs):\r\n",
        "    \r\n",
        "    correct_classified = 0\r\n",
        "    for batch_number , (x_train,y_train) in enumerate(train_loader):\r\n",
        "        \r\n",
        "        batch_number+=1\r\n",
        "        \r\n",
        "        x_train,y_train = x_train.to(device), y_train.to(device)\r\n",
        "        pred = model.forward(x_train)\r\n",
        "        loss = criterion(pred,y_train)\r\n",
        "        \r\n",
        "        #pred.argmax(dim=1, keepdim=True)\r\n",
        "        #PyTorch .eq() function to do this, which compares the values in two tensors and if they match, returns a 1. If they don’t match, it returns a 0:\r\n",
        "        #correct += pred.eq(target.view_as(pred)).sum().item()\r\n",
        "        predicted = torch.max(pred.data ,1)[1]\r\n",
        "        correct_classified += (predicted == y_train).sum()\r\n",
        "        \r\n",
        "        optimizer.zero_grad()\r\n",
        "        loss.backward()\r\n",
        "        optimizer.step()\r\n",
        "        \r\n",
        "        if batch_number%100 == 0:\r\n",
        "            \r\n",
        "            acc = round((correct_classified.item())/(batch_number*128),5)\r\n",
        "            print(f'(TRAIN) Epoch: {i:4} batch_number: {batch_number:4} Loss : {loss:4.4} Acc : {acc:4.5}')\r\n",
        "        \r\n",
        "    train_losses.append(loss) \r\n",
        "    train_correct.append(correct_classified)\r\n",
        "    \r\n",
        "    \r\n",
        "    with torch.no_grad():\r\n",
        "        \r\n",
        "        test_loss = []\r\n",
        "        correct_classified = 0\r\n",
        "        for batch_number , (x_test,y_test) in enumerate(test_loader):\r\n",
        "        \r\n",
        "            x_test,y_test = x_test.to(device), y_test.to(device)\r\n",
        "            pred = model.forward(x_test)\r\n",
        "            loss = criterion(pred,y_test)\r\n",
        "            test_losses.append(loss)\r\n",
        "            \r\n",
        "            correct_classified += (torch.max(pred,1)[1] == y_test).sum()\r\n",
        "        \r\n",
        "        avg_loss = torch.mean(torch.tensor(test_losses))\r\n",
        "        test_losses.append(avg_loss)\r\n",
        "        test_correct.append(correct_classified)\r\n",
        "        \r\n",
        "        acc = round(correct_classified.item()/10000,5)\r\n",
        "        print('(TEST) Correct_classified : ' , correct_classified.item() ,' of 10000')\r\n",
        "        print(f'(TEST) Epoch: {i:4} Loss : {avg_loss:4.4} Acc : {acc:4.5}')\r\n",
        "        print('\\n','*'*60 , '\\n')"
      ],
      "execution_count": 23,
      "outputs": [
        {
          "output_type": "stream",
          "text": [
            "(TRAIN) Epoch:    0 batch_number:  100 Loss : 1.766 Acc : 0.27406\n",
            "(TRAIN) Epoch:    0 batch_number:  200 Loss : 1.243 Acc : 0.43992\n",
            "(TRAIN) Epoch:    0 batch_number:  300 Loss : 1.035 Acc : 0.53768\n",
            "(TRAIN) Epoch:    0 batch_number:  400 Loss : 0.8291 Acc : 0.59947\n",
            "(TEST) Correct_classified :  8253  of 10000\n",
            "(TEST) Epoch:    0 Loss : 0.7452 Acc : 0.8253\n",
            "\n",
            " ************************************************************ \n",
            "\n",
            "(TRAIN) Epoch:    1 batch_number:  100 Loss : 0.681 Acc : 0.81492\n",
            "(TRAIN) Epoch:    1 batch_number:  200 Loss : 0.5822 Acc : 0.81617\n",
            "(TRAIN) Epoch:    1 batch_number:  300 Loss : 0.4902 Acc : 0.81896\n",
            "(TRAIN) Epoch:    1 batch_number:  400 Loss : 0.5031 Acc : 0.82164\n",
            "(TEST) Correct_classified :  8372  of 10000\n",
            "(TEST) Epoch:    1 Loss : 0.6683 Acc : 0.8372\n",
            "\n",
            " ************************************************************ \n",
            "\n",
            "(TRAIN) Epoch:    2 batch_number:  100 Loss : 0.4036 Acc : 0.84016\n",
            "(TRAIN) Epoch:    2 batch_number:  200 Loss : 0.2139 Acc : 0.86938\n",
            "(TRAIN) Epoch:    2 batch_number:  300 Loss : 0.2224 Acc : 0.88583\n",
            "(TRAIN) Epoch:    2 batch_number:  400 Loss : 0.2057 Acc : 0.89559\n",
            "(TEST) Correct_classified :  9365  of 10000\n",
            "(TEST) Epoch:    2 Loss : 0.5191 Acc : 0.9365\n",
            "\n",
            " ************************************************************ \n",
            "\n",
            "(TRAIN) Epoch:    3 batch_number:  100 Loss : 0.2158 Acc : 0.92953\n",
            "(TRAIN) Epoch:    3 batch_number:  200 Loss : 0.1548 Acc : 0.93289\n",
            "(TRAIN) Epoch:    3 batch_number:  300 Loss : 0.1513 Acc : 0.93357\n",
            "(TRAIN) Epoch:    3 batch_number:  400 Loss : 0.2642 Acc : 0.93594\n",
            "(TEST) Correct_classified :  9549  of 10000\n",
            "(TEST) Epoch:    3 Loss : 0.4276 Acc : 0.9549\n",
            "\n",
            " ************************************************************ \n",
            "\n",
            "(TRAIN) Epoch:    4 batch_number:  100 Loss : 0.1767 Acc : 0.94641\n",
            "(TRAIN) Epoch:    4 batch_number:  200 Loss : 0.2213 Acc : 0.94742\n",
            "(TRAIN) Epoch:    4 batch_number:  300 Loss : 0.2024 Acc : 0.94799\n",
            "(TRAIN) Epoch:    4 batch_number:  400 Loss : 0.1385 Acc : 0.94768\n",
            "(TEST) Correct_classified :  9631  of 10000\n",
            "(TEST) Epoch:    4 Loss : 0.3686 Acc : 0.9631\n",
            "\n",
            " ************************************************************ \n",
            "\n",
            "(TRAIN) Epoch:    5 batch_number:  100 Loss : 0.2264 Acc : 0.94711\n",
            "(TRAIN) Epoch:    5 batch_number:  200 Loss : 0.06251 Acc : 0.95125\n",
            "(TRAIN) Epoch:    5 batch_number:  300 Loss : 0.2547 Acc : 0.95279\n",
            "(TRAIN) Epoch:    5 batch_number:  400 Loss : 0.1473 Acc : 0.95318\n",
            "(TEST) Correct_classified :  9561  of 10000\n",
            "(TEST) Epoch:    5 Loss : 0.33 Acc : 0.9561\n",
            "\n",
            " ************************************************************ \n",
            "\n",
            "(TRAIN) Epoch:    6 batch_number:  100 Loss : 0.1141 Acc : 0.95648\n",
            "(TRAIN) Epoch:    6 batch_number:  200 Loss : 0.1227 Acc : 0.95602\n",
            "(TRAIN) Epoch:    6 batch_number:  300 Loss : 0.1008 Acc : 0.95833\n",
            "(TRAIN) Epoch:    6 batch_number:  400 Loss : 0.1498 Acc : 0.959\n",
            "(TEST) Correct_classified :  9634  of 10000\n",
            "(TEST) Epoch:    6 Loss : 0.3006 Acc : 0.9634\n",
            "\n",
            " ************************************************************ \n",
            "\n",
            "(TRAIN) Epoch:    7 batch_number:  100 Loss : 0.1101 Acc : 0.95945\n",
            "(TRAIN) Epoch:    7 batch_number:  200 Loss : 0.1802 Acc : 0.95984\n",
            "(TRAIN) Epoch:    7 batch_number:  300 Loss : 0.111 Acc : 0.96141\n",
            "(TRAIN) Epoch:    7 batch_number:  400 Loss : 0.07534 Acc : 0.96182\n",
            "(TEST) Correct_classified :  9652  of 10000\n",
            "(TEST) Epoch:    7 Loss : 0.2782 Acc : 0.9652\n",
            "\n",
            " ************************************************************ \n",
            "\n",
            "(TRAIN) Epoch:    8 batch_number:  100 Loss : 0.1025 Acc : 0.96578\n",
            "(TRAIN) Epoch:    8 batch_number:  200 Loss : 0.07679 Acc : 0.96512\n",
            "(TRAIN) Epoch:    8 batch_number:  300 Loss : 0.1559 Acc : 0.96523\n",
            "(TRAIN) Epoch:    8 batch_number:  400 Loss : 0.02811 Acc : 0.96551\n",
            "(TEST) Correct_classified :  9729  of 10000\n",
            "(TEST) Epoch:    8 Loss : 0.2576 Acc : 0.9729\n",
            "\n",
            " ************************************************************ \n",
            "\n",
            "(TRAIN) Epoch:    9 batch_number:  100 Loss : 0.0663 Acc : 0.96352\n",
            "(TRAIN) Epoch:    9 batch_number:  200 Loss : 0.09525 Acc : 0.9627\n",
            "(TRAIN) Epoch:    9 batch_number:  300 Loss : 0.1422 Acc : 0.96372\n",
            "(TRAIN) Epoch:    9 batch_number:  400 Loss : 0.1427 Acc : 0.96463\n",
            "(TEST) Correct_classified :  9762  of 10000\n",
            "(TEST) Epoch:    9 Loss : 0.2402 Acc : 0.9762\n",
            "\n",
            " ************************************************************ \n",
            "\n",
            "(TRAIN) Epoch:   10 batch_number:  100 Loss : 0.07878 Acc : 0.96547\n",
            "(TRAIN) Epoch:   10 batch_number:  200 Loss : 0.04895 Acc : 0.96723\n",
            "(TRAIN) Epoch:   10 batch_number:  300 Loss : 0.09549 Acc : 0.96828\n",
            "(TRAIN) Epoch:   10 batch_number:  400 Loss : 0.08213 Acc : 0.96838\n",
            "(TEST) Correct_classified :  9774  of 10000\n",
            "(TEST) Epoch:   10 Loss : 0.2256 Acc : 0.9774\n",
            "\n",
            " ************************************************************ \n",
            "\n",
            "(TRAIN) Epoch:   11 batch_number:  100 Loss : 0.08209 Acc : 0.97211\n",
            "(TRAIN) Epoch:   11 batch_number:  200 Loss : 0.07785 Acc : 0.97082\n",
            "(TRAIN) Epoch:   11 batch_number:  300 Loss : 0.09768 Acc : 0.9718\n",
            "(TRAIN) Epoch:   11 batch_number:  400 Loss : 0.08289 Acc : 0.97195\n",
            "(TEST) Correct_classified :  9757  of 10000\n",
            "(TEST) Epoch:   11 Loss : 0.2137 Acc : 0.9757\n",
            "\n",
            " ************************************************************ \n",
            "\n",
            "(TRAIN) Epoch:   12 batch_number:  100 Loss : 0.1036 Acc : 0.97406\n",
            "(TRAIN) Epoch:   12 batch_number:  200 Loss : 0.1152 Acc : 0.97375\n",
            "(TRAIN) Epoch:   12 batch_number:  300 Loss : 0.2038 Acc : 0.97279\n",
            "(TRAIN) Epoch:   12 batch_number:  400 Loss : 0.1056 Acc : 0.97348\n",
            "(TEST) Correct_classified :  9778  of 10000\n",
            "(TEST) Epoch:   12 Loss : 0.2028 Acc : 0.9778\n",
            "\n",
            " ************************************************************ \n",
            "\n",
            "(TRAIN) Epoch:   13 batch_number:  100 Loss : 0.06869 Acc : 0.97648\n",
            "(TRAIN) Epoch:   13 batch_number:  200 Loss : 0.06722 Acc : 0.97473\n",
            "(TRAIN) Epoch:   13 batch_number:  300 Loss : 0.1168 Acc : 0.9749\n",
            "(TRAIN) Epoch:   13 batch_number:  400 Loss : 0.0852 Acc : 0.97408\n",
            "(TEST) Correct_classified :  9794  of 10000\n",
            "(TEST) Epoch:   13 Loss : 0.1933 Acc : 0.9794\n",
            "\n",
            " ************************************************************ \n",
            "\n",
            "(TRAIN) Epoch:   14 batch_number:  100 Loss : 0.0319 Acc : 0.97758\n",
            "(TRAIN) Epoch:   14 batch_number:  200 Loss : 0.1136 Acc : 0.97605\n",
            "(TRAIN) Epoch:   14 batch_number:  300 Loss : 0.07902 Acc : 0.97482\n",
            "(TRAIN) Epoch:   14 batch_number:  400 Loss : 0.05166 Acc : 0.97518\n",
            "(TEST) Correct_classified :  9796  of 10000\n",
            "(TEST) Epoch:   14 Loss : 0.1846 Acc : 0.9796\n",
            "\n",
            " ************************************************************ \n",
            "\n"
          ],
          "name": "stdout"
        }
      ]
    },
    {
      "cell_type": "code",
      "metadata": {
        "id": "0Ae_0dtvbjMe"
      },
      "source": [
        "test_losses"
      ],
      "execution_count": null,
      "outputs": []
    },
    {
      "cell_type": "code",
      "metadata": {
        "id": "x0pvsgcnbjPL"
      },
      "source": [
        ""
      ],
      "execution_count": null,
      "outputs": []
    },
    {
      "cell_type": "code",
      "metadata": {
        "id": "TaSk9Bw7OLZO"
      },
      "source": [
        ""
      ],
      "execution_count": null,
      "outputs": []
    }
  ]
}