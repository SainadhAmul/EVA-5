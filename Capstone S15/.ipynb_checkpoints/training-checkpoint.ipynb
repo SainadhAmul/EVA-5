{
 "cells": [
  {
   "cell_type": "code",
   "execution_count": 1,
   "metadata": {},
   "outputs": [],
   "source": [
    "import torch\n",
    "import torch.nn as nn\n",
    "import torch.nn.functional as F\n",
    "\n",
    "import torch.optim as optim\n",
    "from torch.optim.lr_scheduler import StepLR\n",
    "\n",
    "from MiDaS.depth_loss import compute_depth_loss\n",
    "from yolo_bbox_decoder.yolo_loss import compute_loss\n",
    "\n",
    "# garbage collection\n",
    "import gc\n",
    "\n",
    "mixed_precision = True\n",
    "try:  # Mixed precision training https://github.com/NVIDIA/apex\n",
    "    from apex import amp\n",
    "except:\n",
    "    # print('Apex recommended for mixed precision and faster training: https://github.com/NVIDIA/apex')\n",
    "    mixed_precision = False  # not installed\n",
    "\n",
    "from main_model import OpNet"
   ]
  },
  {
   "cell_type": "code",
   "execution_count": 3,
   "metadata": {},
   "outputs": [
    {
     "data": {
      "text/plain": [
       "['.ipynb_checkpoints',\n",
       " 'Architecture diagrams',\n",
       " 'cfg.json',\n",
       " 'colab_files',\n",
       " 'dataset.py',\n",
       " 'evaluate.py',\n",
       " 'images',\n",
       " 'main_model.py',\n",
       " 'MiDaS',\n",
       " 'README.md',\n",
       " 'resnext_head.py',\n",
       " 'train.py',\n",
       " 'training.ipynb',\n",
       " 'YOLOv3',\n",
       " 'yolo_bbox_decoder',\n",
       " 'YOLO_MiDaS.ipynb',\n",
       " '__pycache__']"
      ]
     },
     "execution_count": 3,
     "metadata": {},
     "output_type": "execute_result"
    }
   ],
   "source": [
    "import os\n",
    "\n",
    "os.getcwd()\n",
    "\n",
    "os.listdir()"
   ]
  },
  {
   "cell_type": "code",
   "execution_count": null,
   "metadata": {},
   "outputs": [],
   "source": [
    "from dataset import TSAIDataset\n",
    "\n",
    "dataset = TSAIDataset(\"/content/updated_final_data/data/customdata/train.txt\",\n",
    "                                                      (416, 416),\n",
    "                                                      is_training=True,data_dir_path = \"/content/updated_final_data/data/customdata/images/\")\n",
    "\n"
   ]
  },
  {
   "cell_type": "code",
   "execution_count": null,
   "metadata": {},
   "outputs": [],
   "source": [
    "dataloader_temp = torch.utils.data.DataLoader(dataset,\n",
    "                                          batch_size=32,\n",
    "                                          shuffle=True, num_workers=4, pin_memory=True)"
   ]
  },
  {
   "cell_type": "code",
   "execution_count": null,
   "metadata": {},
   "outputs": [],
   "source": []
  },
  {
   "cell_type": "code",
   "execution_count": null,
   "metadata": {},
   "outputs": [],
   "source": []
  }
 ],
 "metadata": {
  "kernelspec": {
   "display_name": "Python 3",
   "language": "python",
   "name": "python3"
  },
  "language_info": {
   "codemirror_mode": {
    "name": "ipython",
    "version": 3
   },
   "file_extension": ".py",
   "mimetype": "text/x-python",
   "name": "python",
   "nbconvert_exporter": "python",
   "pygments_lexer": "ipython3",
   "version": "3.8.5"
  }
 },
 "nbformat": 4,
 "nbformat_minor": 4
}
